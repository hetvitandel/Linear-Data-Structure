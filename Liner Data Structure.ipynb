{
 "cells": [
  {
   "cell_type": "code",
   "execution_count": 4,
   "id": "0dbb3146",
   "metadata": {},
   "outputs": [
    {
     "name": "stdout",
     "output_type": "stream",
     "text": [
      "pair : ( 2 , 8 )\n",
      "pair : ( 3 , 7 )\n",
      "pair : ( 4 , 6 )\n"
     ]
    }
   ],
   "source": [
    "#1. Write a program to find all pairs of an integer array whose sum is equal to a given number?\n",
    "\n",
    "def pairs(lst,total):\n",
    "    low = 0\n",
    "    high =len(lst)-1\n",
    "    while (low<high):\n",
    "        if (lst[low]+lst[high]==total):\n",
    "            print(\"pair : (\",lst[low],\",\",lst[high],\")\")\n",
    "        if (lst[low]+lst[high]>total):\n",
    "            high -= 1\n",
    "        else:\n",
    "            low += 1\n",
    "pairs([1,2,3,4,5,6,7,8],10)            "
   ]
  },
  {
   "cell_type": "code",
   "execution_count": 8,
   "id": "ff731a7c",
   "metadata": {},
   "outputs": [
    {
     "name": "stdout",
     "output_type": "stream",
     "text": [
      "enter no of element3\n",
      "1\n",
      "2\n",
      "3\n",
      "original list is [1, 2, 3]\n",
      "reversed list is [3, 2, 1]\n"
     ]
    }
   ],
   "source": [
    "#2. Write a program to reverse an array in place? In place means you cannot create a new array. You have to update the original array.\n",
    "\n",
    "l=[]\n",
    "n=int(input(\"enter no of element\"))\n",
    "for i in range(0,n):\n",
    "    ele=int(input())\n",
    "    l.append(ele)\n",
    "print(\"original list is\",l) \n",
    "def rev(l,start):\n",
    "    end =len(l)-1\n",
    "    while start < end:\n",
    "        l[start],l[end]=l[end],l[start]\n",
    "        start +=1\n",
    "        end -=1\n",
    "    print(\"reversed list is\",l)\n",
    "rev(l,0)    "
   ]
  },
  {
   "cell_type": "code",
   "execution_count": 14,
   "id": "9209455f",
   "metadata": {},
   "outputs": [
    {
     "data": {
      "text/plain": [
       "False"
      ]
     },
     "execution_count": 14,
     "metadata": {},
     "output_type": "execute_result"
    }
   ],
   "source": [
    "#3 Write a program to check if two strings are a rotation of each other?\n",
    "\n",
    "def rotationcheck(str1,str2):\n",
    "    temp = ' '\n",
    "    if len(str1) != len(str2):\n",
    "        return False\n",
    "    temp = str1+str2\n",
    "    if (temp.count(str2)>0):\n",
    "        return True\n",
    "    else:\n",
    "        return False\n",
    "rotationcheck(\"hetvi\",\"het\")    "
   ]
  },
  {
   "cell_type": "code",
   "execution_count": 24,
   "id": "2eee5429",
   "metadata": {},
   "outputs": [],
   "source": [
    "#4 Write a program to print the first non-repeated character from a string?\n",
    "\n",
    "from collections import Counter\n",
    "\n",
    "def findrepeted(text):\n",
    "    count = Counter(text)\n",
    "    count = {(key):(0 if count[key]==1 else None) for key, value in count.items()}\n",
    "    return count\n",
    "\n",
    "def first_nonrepeat_char(nrc):\n",
    "    count = findrepeted(nrc)\n",
    "    nonrep = None\n",
    "    for i in nrc:\n",
    "        if count[i] is not None:\n",
    "            nonrep = i\n",
    "            break\n",
    "        if nonrep is not None:\n",
    "            return nonrep\n",
    "        else:\n",
    "            return str(\" ! \")"
   ]
  },
  {
   "cell_type": "code",
   "execution_count": 25,
   "id": "7ef28c80",
   "metadata": {},
   "outputs": [
    {
     "name": "stdout",
     "output_type": "stream",
     "text": [
      " ! \n"
     ]
    }
   ],
   "source": [
    "print(first_nonrepeat_char(\"hhettvii\"))"
   ]
  },
  {
   "cell_type": "code",
   "execution_count": 28,
   "id": "3b59ff5a",
   "metadata": {},
   "outputs": [
    {
     "name": "stdout",
     "output_type": "stream",
     "text": [
      "move disk 1 from rod A to rod C\n",
      "movedisk 2 from rod A to rod B\n",
      "move disk 1 from rod C to rod B\n",
      "movedisk 3 from rod A to rod C\n",
      "move disk 1 from rod B to rod A\n",
      "movedisk 2 from rod B to rod C\n",
      "move disk 1 from rod A to rod C\n",
      "movedisk 4 from rod A to rod B\n",
      "move disk 1 from rod C to rod B\n",
      "movedisk 2 from rod C to rod A\n",
      "move disk 1 from rod B to rod A\n",
      "movedisk 3 from rod C to rod B\n",
      "move disk 1 from rod A to rod C\n",
      "movedisk 2 from rod A to rod B\n",
      "move disk 1 from rod C to rod B\n"
     ]
    }
   ],
   "source": [
    "#5 Read about the Tower of Hanoi algorithm. Write a program to implement it.\n",
    "\n",
    "def TowerofHanoi(n,rod1,rod2,rod3):\n",
    "    if n==1:\n",
    "        print(\"move disk 1 from rod\",rod1,\"to rod\",rod2)\n",
    "        return\n",
    "    TowerofHanoi(n-1,rod1,rod3,rod2)\n",
    "    print(\"movedisk\",n,\"from rod\",rod1,\"to rod\",rod2)\n",
    "    TowerofHanoi(n-1,rod3,rod2,rod1)\n",
    "n=4\n",
    "TowerofHanoi(n,'A','B','C')"
   ]
  },
  {
   "cell_type": "code",
   "execution_count": 29,
   "id": "cfac9f83",
   "metadata": {},
   "outputs": [],
   "source": [
    "#6 Read about infix, prefix, and postfix expressions. Write a program to convert postfix to prefix expression.\n",
    "\n",
    "def expresion(e):\n",
    "    stack = []\n",
    "    operators = {'+','/','-','*','^'}\n",
    "    e =e[::-1]\n",
    "    for i in e:\n",
    "        if i in operators:\n",
    "            a= stack.pop()\n",
    "            b= stack.pop()\n",
    "            temp= a+b+i\n",
    "            stack.append(temp)\n",
    "        else:\n",
    "            stack.append(i)\n",
    "    print(*stack)       \n",
    "            \n",
    "            "
   ]
  },
  {
   "cell_type": "code",
   "execution_count": 31,
   "id": "7bd44baf",
   "metadata": {},
   "outputs": [
    {
     "name": "stdout",
     "output_type": "stream",
     "text": [
      "ASD/-as/p-*\n"
     ]
    }
   ],
   "source": [
    "expresion(\"*-A/SD-/asp\")"
   ]
  },
  {
   "cell_type": "code",
   "execution_count": 32,
   "id": "d2f706fe",
   "metadata": {},
   "outputs": [],
   "source": [
    "#7 Write a program to convert prefix expression to infix expression.\n",
    "\n",
    "def expresion(e):\n",
    "    stack = []\n",
    "    operators = {'+','/','-','*','^'}\n",
    "    e =e[::-1]\n",
    "    for i in e:\n",
    "        if i in operators:\n",
    "            a= stack.pop()\n",
    "            b= stack.pop()\n",
    "            temp = \"(\"+ a + i + b +\")\"\n",
    "            stack.append(temp)\n",
    "        else:\n",
    "            stack.append(i)\n",
    "    print(*stack)       \n"
   ]
  },
  {
   "cell_type": "code",
   "execution_count": 34,
   "id": "68bab6e1",
   "metadata": {},
   "outputs": [
    {
     "name": "stdout",
     "output_type": "stream",
     "text": [
      "((A-(B/C))*((w/e)-c))\n"
     ]
    }
   ],
   "source": [
    "expresion(\"*-A/BC-/wec\")"
   ]
  },
  {
   "cell_type": "code",
   "execution_count": 3,
   "id": "4b3a97e3",
   "metadata": {},
   "outputs": [
    {
     "name": "stdout",
     "output_type": "stream",
     "text": [
      "({\n",
      "Parenthesis are Balanced!\n"
     ]
    }
   ],
   "source": [
    "#8 Write a program to check if all the brackets are closed in a given code snippet.\n",
    "\n",
    "class Stack():\n",
    "    def __init__(self,size):\n",
    "        self.data = []\n",
    "        self.size = size\n",
    "        self.length = 0\n",
    "        self.top = None\n",
    "        \n",
    "    def push(self,item):\n",
    "        if self.length < self.size:\n",
    "            self.data.append(item)\n",
    "            self.length+=1\n",
    "            self.top = item\n",
    "        else:\n",
    "            print('STACK OVERFLOW')\n",
    "            \n",
    "    def pop(self):\n",
    "        if self.length == 0:\n",
    "            print('STACK UNDERFLOW')\n",
    "            return None\n",
    "        else:\n",
    "            popped_item = self.data.pop()\n",
    "            self.length -= 1\n",
    "            if self.length == 0:\n",
    "                self.top = None\n",
    "            else:  \n",
    "                self.top = self.data[-1]\n",
    "            return popped_item\n",
    "    def peak(self):\n",
    "        return self.top\n",
    "    def isEmpty(self):\n",
    "        return not bool(self.length)\n",
    "    \n",
    "    def length(self):\n",
    "        return self.length\n",
    "    def display(self):\n",
    "        print('Printing items from top to bottom...')\n",
    "        for i in self.data[::-1]:\n",
    "            print(i)\n",
    "            \n",
    "stack_obj = Stack(20)        \n",
    "expression = input()\n",
    "partner = {']':'[','}':'{',')':'('}\n",
    "for char in expression:\n",
    "    if char in ['{','[','(']:\n",
    "        stack_obj.push(char)\n",
    "    else:\n",
    "        if stack_obj.length == 0:\n",
    "            print('Parenthesis are not Balanced!')\n",
    "            break\n",
    "        else:\n",
    "            if partner[char] == stack_obj.peak():\n",
    "                stack_obj.pop()\n",
    "            else:\n",
    "                print('Parenthesis are not Balanced!')\n",
    "                break\n",
    "                \n",
    "else:\n",
    "    if stack_obj.length != 0:\n",
    "        print('Parenthesis are Balanced!')\n",
    "    else:\n",
    "        print('Parenthesis are not Balanced!')   "
   ]
  },
  {
   "cell_type": "code",
   "execution_count": 10,
   "id": "03b5994a",
   "metadata": {},
   "outputs": [
    {
     "name": "stdout",
     "output_type": "stream",
     "text": [
      "Original Stack \n",
      "1 2 3 4 \n",
      "Reversed Stack \n",
      "4 3 2 1 \n"
     ]
    }
   ],
   "source": [
    "#9 Write a program to reverse a stack.\n",
    "\n",
    "def insert(stack, item):\n",
    "    if isEmpty(stack):\n",
    "        push(stack, item)\n",
    "    else:\n",
    "        temp = pop(stack)\n",
    "        insert(stack, item)\n",
    "        push(stack, temp)\n",
    "\n",
    "def rev(stack):\n",
    "    if not isEmpty(stack):\n",
    "        temp = pop(stack)\n",
    "        rev(stack)\n",
    "        insert(stack, temp)\n",
    "\n",
    "def createStack():\n",
    "    stack = []\n",
    "    return stack         \n",
    "\n",
    "def isEmpty( stack ):\n",
    "    return len(stack) == 0\n",
    " \n",
    "\n",
    "def push( stack, item ):\n",
    "    stack.append( item )\n",
    " \n",
    "\n",
    "def pop( stack ):\n",
    "\n",
    "    if(isEmpty( stack )):\n",
    "        print(\"Stack Underflow \")\n",
    "        exit(1)\n",
    " \n",
    "    return stack.pop()\n",
    "\n",
    "def prints(stack):\n",
    "    for i in range(len(stack)-1, -1, -1):\n",
    "        print(stack[i], end = ' ')\n",
    "    print()\n",
    "stack = createStack()\n",
    "push( stack, str(4) )\n",
    "push( stack, str(3) )\n",
    "push( stack, str(2) )\n",
    "push( stack, str(1) )\n",
    "print(\"Original Stack \")\n",
    "prints(stack)\n",
    " \n",
    "rev(stack)\n",
    " \n",
    "print(\"Reversed Stack \")\n",
    "prints(stack)   \n"
   ]
  },
  {
   "cell_type": "code",
   "execution_count": 12,
   "id": "a9865ed5",
   "metadata": {},
   "outputs": [],
   "source": [
    "10. Write a program to find the smallest number using a stack.\n",
    "\n",
    "class min_stack():\n",
    "    def __init__(self):\n",
    "        \n",
    "        self.main_stack = []\n",
    "        self.help_stack = []\n",
    "        \n",
    "    def push(self,item):\n",
    "        self.main_stack.append(item)\n",
    "        if len(self.help_stack) >= 1:\n",
    "            if self.help_stack[-1] >= item:\n",
    "                self.help_stack.append(item)\n",
    "        else:\n",
    "            self.help_stack.append(item)\n",
    "            \n",
    "    def pop():\n",
    "        if len(self.main_stack) >= 1:\n",
    "            popped_value = self.main_stack.pop()\n",
    "            if popped_value == self.help_stack[-1]:\n",
    "                self.help_stack.pop()\n",
    "                \n",
    "    def min(self):\n",
    "        if len(self.help_stack) >= 1:\n",
    "            return self.help_stack[-1]\n",
    "        else:\n",
    "            return None\n",
    "obj = min_stack()        "
   ]
  },
  {
   "cell_type": "code",
   "execution_count": 13,
   "id": "ccd7944c",
   "metadata": {},
   "outputs": [
    {
     "data": {
      "text/plain": [
       "4"
      ]
     },
     "execution_count": 13,
     "metadata": {},
     "output_type": "execute_result"
    }
   ],
   "source": [
    "\n",
    "obj.push(18)\n",
    "obj.push(22)\n",
    "obj.push(39)\n",
    "obj.push(4)\n",
    "obj.min()"
   ]
  },
  {
   "cell_type": "code",
   "execution_count": 22,
   "id": "3949a611",
   "metadata": {},
   "outputs": [],
   "source": [
    "8. Write a program to check if all the brackets are closed in a given code snippet.\n",
    "\n",
    "\n",
    "def balanced(exp):\n",
    "    for char in exp:\n",
    "        if char in [\"(\",\"{\",\"[\"]:\n",
    "            stack.append(char)\n",
    "        else:\n",
    "            if not stack:\n",
    "                return False\n",
    "            current_char = stack.pop()\n",
    "            if current_char == '(':\n",
    "                if char != \")\":\n",
    "                    return False\n",
    "            if current_char == '{':\n",
    "                if char != \"}\":\n",
    "                    return False\n",
    "            if current_char == '[':\n",
    "                if char != \"]\":        \n",
    "                    return False\n",
    "        if stack:\n",
    "            return False\n",
    "        return True\n",
    "            \n",
    "            \n",
    "            \n",
    "            \n",
    "            "
   ]
  },
  {
   "cell_type": "code",
   "execution_count": 25,
   "id": "f18138aa",
   "metadata": {},
   "outputs": [
    {
     "name": "stdout",
     "output_type": "stream",
     "text": [
      "Not Balanced\n"
     ]
    }
   ],
   "source": [
    "if __name__ == \"__main__\":\n",
    "    exp = \"{()}[]\"\n",
    "if balanced(exp):\n",
    "        print(\"Balanced\")\n",
    "else:\n",
    "        print(\"Not Balanced\")    "
   ]
  },
  {
   "cell_type": "code",
   "execution_count": null,
   "id": "6f12d5ae",
   "metadata": {},
   "outputs": [],
   "source": []
  }
 ],
 "metadata": {
  "kernelspec": {
   "display_name": "Python 3 (ipykernel)",
   "language": "python",
   "name": "python3"
  },
  "language_info": {
   "codemirror_mode": {
    "name": "ipython",
    "version": 3
   },
   "file_extension": ".py",
   "mimetype": "text/x-python",
   "name": "python",
   "nbconvert_exporter": "python",
   "pygments_lexer": "ipython3",
   "version": "3.10.0"
  }
 },
 "nbformat": 4,
 "nbformat_minor": 5
}
